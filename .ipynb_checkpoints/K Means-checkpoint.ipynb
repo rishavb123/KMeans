{
 "cells": [
  {
   "cell_type": "markdown",
   "metadata": {},
   "source": [
    "# K Means"
   ]
  },
  {
   "cell_type": "markdown",
   "metadata": {},
   "source": [
    "Imports for matplotlib for graphing and numpy for numeric operations"
   ]
  },
  {
   "cell_type": "code",
   "execution_count": 1,
   "metadata": {},
   "outputs": [],
   "source": [
    "import matplotlib.pyplot as plt\n",
    "import numpy as np"
   ]
  },
  {
   "cell_type": "markdown",
   "metadata": {},
   "source": [
    "Define some data and constants for this implementation of the algorithm"
   ]
  },
  {
   "cell_type": "code",
   "execution_count": 2,
   "metadata": {},
   "outputs": [],
   "source": [
    "minimum = 0\n",
    "maximum = 15\n",
    "\n",
    "X = np.array([(1, 1),\n",
    "              (10, 0.5),\n",
    "              (10, 8),\n",
    "              (9, 10.1),\n",
    "              (9.5, 11.5),\n",
    "              (12, 1),\n",
    "              (1, 1.01),\n",
    "              (0.5, 1.3),\n",
    "              (12.4, 9.8),\n",
    "              (9.3, 2),\n",
    "              (1.2, 1)])\n",
    "n=5\n",
    "K = 3\n",
    "colors = ['red', 'green', 'blue']"
   ]
  },
  {
   "cell_type": "markdown",
   "metadata": {},
   "source": [
    "Part of this algorithm needs to assign each point to a cluster based on the points defined in $M$. We can find where each point belong by finding the squared distance $d = \\sqrt{(x_m - x)^2 + (y_m - y)^2}$ between a point $(x, y)$ and the \"cluster\" $(x_m, y_m)$ defined from $M$. For each point, we choose the cluster that minimizes this distance."
   ]
  },
  {
   "cell_type": "code",
   "execution_count": 3,
   "metadata": {},
   "outputs": [],
   "source": [
    "def cluster(X, M):\n",
    "\n",
    "    Y = []\n",
    "\n",
    "    for point in X:\n",
    "        d = [((m[0] - point[0]) ** 2 + (m[1] - point[1]) ** 2) ** 0.5 for m in M]\n",
    "        Y.append(np.argmin(d))\n",
    "        \n",
    "    return Y"
   ]
  },
  {
   "cell_type": "markdown",
   "metadata": {},
   "source": [
    "The next step in the algorithm is to calculate new clusters based on the groupings of our data. We can set each cluster equation to the average of all the points grouped to this cluster. So $x_m = \\frac{\\sum_i x_i}{\\text{len}(x)}$ and $x_m = \\frac{\\sum_i y_i}{\\text{len}(y)}$ where $x$ and $y$ are the points that belong in the cluster $m$."
   ]
  },
  {
   "cell_type": "code",
   "execution_count": 4,
   "metadata": {},
   "outputs": [],
   "source": [
    "def means(X, Y, M):\n",
    "    X_m = [[] for _ in M]\n",
    "    for i in range(len(X)):\n",
    "        X_m[Y[i]].append(X[i])\n",
    "    averages = []\n",
    "    for x_m in X_m:\n",
    "        s = [0, 0]\n",
    "        for x in x_m:\n",
    "            s[0] += x[0]\n",
    "            s[1] += x[1]\n",
    "        if len(x_m) != 0:\n",
    "            averages.append([s[0] / len(x_m), s[1] / len(x_m)])\n",
    "        else:\n",
    "            averages.append((((maximum + minimum) / 2), (maximum + minimum) / 2))\n",
    "    return averages"
   ]
  },
  {
   "cell_type": "markdown",
   "metadata": {},
   "source": [
    "This function plots the data in X in its clusters Y. The difference clusters are visualized by difference colors."
   ]
  },
  {
   "cell_type": "code",
   "execution_count": 5,
   "metadata": {},
   "outputs": [],
   "source": [
    "def plot(X, Y, M, colors):\n",
    "    for j in range(len(M)):\n",
    "        m = M[j]\n",
    "        plt.scatter(m[0], m[1], s=100, color=colors[j])\n",
    "    for i in range(len(X)):\n",
    "        plt.scatter(X[i][0], X[i][1], color=colors[Y[i]])\n",
    "    plt.show()"
   ]
  },
  {
   "cell_type": "markdown",
   "metadata": {},
   "source": [
    "This function goes through the high level outline of an iteration of the K Means algorithm. First we cluster all of the data using our original clusters. Then, we update our clusters based on the averages of the data points in each cluster. Then, if we would like to we can plot our results."
   ]
  },
  {
   "cell_type": "code",
   "execution_count": 6,
   "metadata": {},
   "outputs": [],
   "source": [
    "def step(X, M, should_plot=False):\n",
    "    Y = cluster(X, M)\n",
    "    M = means(X, Y, M)\n",
    "    if should_plot:\n",
    "        plot(X, Y, M, colors)\n",
    "    return M"
   ]
  },
  {
   "cell_type": "markdown",
   "metadata": {},
   "source": [
    "To start the algorithm, we must initialize random clusters."
   ]
  },
  {
   "cell_type": "code",
   "execution_count": 7,
   "metadata": {},
   "outputs": [],
   "source": [
    "M = []\n",
    "for k in range(K):\n",
    "    M.append([np.random.random() * (maximum - minimum) + minimum, np.random.random() * (maximum - minimum) + minimum])"
   ]
  },
  {
   "cell_type": "markdown",
   "metadata": {},
   "source": [
    "This iterates through through the algorithm $n$ times"
   ]
  },
  {
   "cell_type": "code",
   "execution_count": 8,
   "metadata": {},
   "outputs": [
    {
     "data": {
      "image/png": "[encoded data removed]",
      "text/plain": [
       "<Figure size 432x288 with 1 Axes>"
      ]
     },
     "metadata": {
      "needs_background": "light"
     },
     "output_type": "display_data"
    },
    {
     "data": {
      "image/png": "[encoded data removed]",
      "text/plain": [
       "<Figure size 432x288 with 1 Axes>"
      ]
     },
     "metadata": {
      "needs_background": "light"
     },
     "output_type": "display_data"
    },
    {
     "data": {
      "image/png": "[encoded data removed]",
      "text/plain": [
       "<Figure size 432x288 with 1 Axes>"
      ]
     },
     "metadata": {
      "needs_background": "light"
     },
     "output_type": "display_data"
    },
    {
     "data": {
      "image/png": "[encoded data removed]",
      "text/plain": [
       "<Figure size 432x288 with 1 Axes>"
      ]
     },
     "metadata": {
      "needs_background": "light"
     },
     "output_type": "display_data"
    },
    {
     "data": {
      "image/png": "[encoded data removed]",
      "text/plain": [
       "<Figure size 432x288 with 1 Axes>"
      ]
     },
     "metadata": {
      "needs_background": "light"
     },
     "output_type": "display_data"
    }
   ],
   "source": [
    "for i in range(n):\n",
    "    M = step(X, M, True)"
   ]
  }
 ],
 "metadata": {
  "kernelspec": {
   "display_name": "Python 3",
   "language": "python",
   "name": "python3"
  },
  "language_info": {
   "codemirror_mode": {
    "name": "ipython",
    "version": 3
   },
   "file_extension": ".py",
   "mimetype": "text/x-python",
   "name": "python",
   "nbconvert_exporter": "python",
   "pygments_lexer": "ipython3",
   "version": "3.7.3"
  }
 },
 "nbformat": 4,
 "nbformat_minor": 2
}
